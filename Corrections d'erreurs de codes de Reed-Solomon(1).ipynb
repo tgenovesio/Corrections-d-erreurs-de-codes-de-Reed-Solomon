{
 "cells": [
  {
   "cell_type": "code",
   "execution_count": 1,
   "metadata": {},
   "outputs": [],
   "source": [
    "def dual(f,fq):\n",
    "    g = copy(f)\n",
    "    ligneg = len(g.rows())\n",
    "    colg = len(g.columns())\n",
    "    carreg = matrix(fq,[[g[i,j] for j in range(ligneg)] for i in range(ligneg)])#sous matrice carré à gauche\n",
    "    invcar = carreg**-1\n",
    "    gid = invcar*g # met l'identité à gauche\n",
    "    d = matrix(fq,[[0 for a in range(colg)] for b in range(colg-ligneg)])\n",
    "    ide = identity_matrix(fq,colg-ligneg)\n",
    "    for i in range(colg-ligneg): \n",
    "        for j in range(ligneg):\n",
    "            d[i,j] = -gid[j][i+ligneg] #-A transpose à gauche\n",
    "        for k in range(ligneg,colg):\n",
    "            d[i,k] = ide[i,k-ligneg] #identité à droite\n",
    "    return d"
   ]
  },
  {
   "cell_type": "code",
   "execution_count": 2,
   "metadata": {},
   "outputs": [],
   "source": [
    "def Correction(z,k,fq,y): #Cette fonction renvoi 'ce mot est un mot du code' si c'est le cas, ou le corrige et le renvoi corrigé sinon\n",
    "#Elle prend en paramètre z qui est la deuxième ligne de la matrice G, k qui est le nombre de ligne de la matrice G (dimension),\n",
    "#fq qui est le corps dans lequel on travail et y le mot reçu, que l'on corrige si c'est possible. \n",
    "    n = len(z)\n",
    "    d = n-k+1\n",
    "    print('Les paramètres du code sont : [ n =',n,', k =',k,', d =',d,']')\n",
    "    print()\n",
    "    t = (d//2)-1\n",
    "    print(\"Ce code peut corriger, au plus,\", t, \"erreurs.\")\n",
    "    print()\n",
    "    G = matrix(fq,[[z[i]**j for i in range(n)] for j in range(k)]) #création matrice G, génératrice du code\n",
    "    L = matrix(fq,[[z[i]**j for i in range(n)] for j in range(t+1)]) #création matrice L, matrice auxiliaire\n",
    "    pi = matrix(fq,[[z[i]**j for i in range(n)] for j in range(k+t)]) #création matrice pi\n",
    "    Hpi = dual(pi,fq) #création matrice Hpi qui est le code dual de pi\n",
    "    Ly = matrix(fq,[[y[i]*L[j,i] for i in range(n)] for j in range(t+1)]) #Chaque ligne est Li*y\n",
    "    M = Ly*Hpi.transpose() #matrice M est construite de la façon suivante : Li*y*Hpi(transpose), pour chaque ligne. \n",
    "    coef = kernel(M) #Le noyau de la matrice M sont les coefficients tel que [a,b,...]*M = 0\n",
    "    Lp = matrix(fq,[[Ly[j,i]*coef[1][j] for i in range(n)] for j in range(t+1)])\n",
    "    Lprime = [0 for i in range(n)]\n",
    "    for i in range(t+1):\n",
    "        for j in range(n):\n",
    "            Lprime[j] = Lprime[j] + Lp[i,j]\n",
    "    if M == 0:\n",
    "        print('Ce mot est un mot du code.')\n",
    "        return\n",
    "    zg = []\n",
    "    for i in range(len(Lprime)):\n",
    "        if Lprime[i] != 0:\n",
    "            zg.append(i) #zg sera une liste dans laquelle on stock tous les indices des valleurs non nulle.\n",
    "    g = matrix(fq,[[z[zg[i]]**j for i in range(len(zg))] for j in range(k)]) #g est la nouvelle matrice sans les colonnes aux indices où se situent des erreurs.\n",
    "    c = []\n",
    "    for i in zg:\n",
    "        c.append(y[i])\n",
    "    c = vector(c) #c est le mot y où on à enlevé les erreurs pour avoir un système d'équation linéaire sans erreurs.\n",
    "    co = g.transpose().solve_right(c) #résolution d'équations, renvoi w tq wA = 0\n",
    "    mot = [0 for i in range(len(Lprime))]\n",
    "    for j in range(len(Lprime)):\n",
    "        for i in range(len(co)):\n",
    "            mot[j] = mot[j] + co[i]*G[i,j] #mot est les mot sans erreurs\n",
    "    print('Le mot corrigé est :',mot)"
   ]
  },
  {
   "cell_type": "code",
   "execution_count": 3,
   "metadata": {},
   "outputs": [],
   "source": [
    "def CorrectionDetail(z,k,fq,y):\n",
    "    n = len(z)\n",
    "    d = n-k+1\n",
    "    print('Les paramètres du code sont : [ n =',n,', k =',k,', d =',d,']')\n",
    "    print()\n",
    "    t = (d//2)-1\n",
    "    print(\"Ce code peut corriger, au plus,\", t, \"erreurs.\")\n",
    "    print()\n",
    "    G = matrix(fq,[[z[i]**j for i in range(n)] for j in range(k)])\n",
    "    L = matrix(fq,[[z[i]**j for i in range(n)] for j in range(t+1)])\n",
    "    pi = matrix(fq,[[z[i]**j for i in range(n)] for j in range(k+t)])\n",
    "    Hpi = dual(pi,fq)\n",
    "    Ly = matrix(fq,[[y[i]*L[j,i] for i in range(n)] for j in range(t+1)])\n",
    "    M = Ly*Hpi.transpose()\n",
    "    coef = kernel(M)\n",
    "    Lp = matrix(fq,[[Ly[j,i]*coef[1][j] for i in range(n)] for j in range(t+1)])\n",
    "    Lprime = [0 for i in range(n)]\n",
    "    for i in range(t+1):\n",
    "        for j in range(n):\n",
    "            Lprime[j] = Lprime[j] + Lp[i,j]\n",
    "    if M == 0:\n",
    "        print('Ce mot est un mot du code.')\n",
    "        return\n",
    "    zg = []\n",
    "    for i in range(len(Lprime)):\n",
    "        if Lprime[i] != 0:\n",
    "            zg.append(i)\n",
    "    g = matrix(fq,[[z[zg[i]]**j for i in range(len(zg))] for j in range(k)])\n",
    "    c = []\n",
    "    for i in zg:\n",
    "        c.append(y[i])\n",
    "    c = vector(c)\n",
    "    co = g.transpose().solve_right(c)\n",
    "    mot = [0 for i in range(len(Lprime))]\n",
    "    for j in range(len(Lprime)):\n",
    "        for i in range(len(co)):\n",
    "            mot[j] = mot[j] + co[i]*G[i,j]\n",
    "    afficherG = input('Afficher la matrice G ? (y/n)')\n",
    "    if (afficherG == 'y'):\n",
    "        print('G =',G)\n",
    "        print()\n",
    "    afficherL = input('Afficher la matrice L ? (y/n)')\n",
    "    if (afficherL == 'y'):\n",
    "        print('L =',L)\n",
    "        print()\n",
    "    afficherpi = input('Afficher la matrice pi ? (y/n)')\n",
    "    if (afficherpi == 'y'):\n",
    "        print('pi =',pi)\n",
    "        print()\n",
    "    afficherHpi = input('Afficher la matrice Hpi ? (y/n)')\n",
    "    if (afficherHpi == 'y'):\n",
    "        print('Hpi =',Hpi)\n",
    "        print()\n",
    "    afficherLy = input('Afficher la matrice Ly ? (y/n)')\n",
    "    if (afficherLy == 'y'):\n",
    "        print('Ly =',Ly)\n",
    "        print()\n",
    "    afficherM = input('Afficher la matrice M ? (y/n)')\n",
    "    if (afficherM == 'y'):\n",
    "        print('M =',M)\n",
    "        print()\n",
    "    afficherCoef = input('Afficher les coefficients ? (y/n)')\n",
    "    if (afficherCoef == 'y'):\n",
    "        print('Coef =',coef)\n",
    "        print()\n",
    "    afficherLprime = input('Afficher L prime ? (y/n)')\n",
    "    if (afficherLprime == 'y'):\n",
    "        print('L prime =',Lprime)\n",
    "        print()\n",
    "    afficherCo = input('Afficher les coefficients de la construction de m ? (y/n)')\n",
    "    if (afficherCo == 'y'):\n",
    "        print('co =',co)\n",
    "        print()\n",
    "    afficherMessage = input('Afficher le Mot corrigé ? (y/n)')\n",
    "    if (afficherMessage == 'y'):\n",
    "        print('Mot =',mot)\n",
    "        print()"
   ]
  },
  {
   "cell_type": "code",
   "execution_count": 13,
   "metadata": {},
   "outputs": [
    {
     "name": "stdout",
     "output_type": "stream",
     "text": [
      "Les paramètres du code sont : [ n = 7 , k = 4 , d = 4 ]\n",
      "\n",
      "Ce code peut corriger, au plus, 1 erreurs.\n",
      "\n",
      "Ce mot est un mot du code.\n",
      "\n",
      "\n",
      "Les paramètres du code sont : [ n = 7 , k = 4 , d = 4 ]\n",
      "\n",
      "Ce code peut corriger, au plus, 1 erreurs.\n",
      "\n",
      "Le mot corrigé est : [4, 0, 0, 3, 1, 0, 6]\n"
     ]
    }
   ],
   "source": [
    "z = [0,1,2,3,4,5,6] #deuxième ligne de la matrice.\n",
    "y1 = [4,0,0,3,1,0,6] #mot reçu (sans erreur)\n",
    "y2 = [4,0,5,3,1,0,6]\n",
    "Correction(z,4,GF(7),y1)\n",
    "print()\n",
    "print()\n",
    "Correction(z,4,GF(7),y2)"
   ]
  },
  {
   "cell_type": "code",
   "execution_count": 22,
   "metadata": {},
   "outputs": [
    {
     "name": "stdout",
     "output_type": "stream",
     "text": [
      "Les paramètres du code sont : [ n = 11 , k = 6 , d = 6 ]\n",
      "\n",
      "Ce code peut corriger, au plus, 2 erreurs.\n",
      "\n",
      "Ce mot est un mot du code.\n",
      "\n",
      "\n",
      "Les paramètres du code sont : [ n = 11 , k = 6 , d = 6 ]\n",
      "\n",
      "Ce code peut corriger, au plus, 2 erreurs.\n",
      "\n",
      "Le mot corrigé est : [3, 0, 9, 9, 3, 7, 6, 9, 5, 7, 8]\n"
     ]
    }
   ],
   "source": [
    "z = [0,1,2,3,4,5,6,7,8,9,10] #deuxième ligne de la matrice.\n",
    "y1 = [3,0,9,9,3,7,6,9,5,7,8] #mot reçu (sans erreur)\n",
    "y2 = [3,0,9,1,3,7,6,9,3,7,8] #mot reçu (avec deux erreurs)\n",
    "Correction(z,6,GF(11),y1)\n",
    "print()\n",
    "print()\n",
    "Correction(z,6,GF(11),y2)"
   ]
  },
  {
   "cell_type": "code",
   "execution_count": 25,
   "metadata": {},
   "outputs": [
    {
     "name": "stdout",
     "output_type": "stream",
     "text": [
      "Les paramètres du code sont : [ n = 19 , k = 10 , d = 10 ]\n",
      "\n",
      "Ce code peut corriger, au plus, 4 erreurs.\n",
      "\n",
      "Le mot corrigé est : [0, 1, 8, 8, 7, 11, 7, 1, 18, 7, 12, 1, 18, 12, 8, 12, 11, 11, 18]\n"
     ]
    }
   ],
   "source": [
    "z = [0,1,2,3,4,5,6,7,8,9,10,11,12,13,14,15,16,17,18] #deuxième ligne de la matrice.\n",
    "y = [0,1,8,5,7,11,7,1,15,7,12,1,15,12,5,12,11,11,18] #mot reçu (avec quatre erreurs)\n",
    "Correction(z,10,GF(19),y)"
   ]
  }
 ],
 "metadata": {
  "kernelspec": {
   "display_name": "SageMath 9.3",
   "language": "sage",
   "name": "sagemath"
  },
  "language_info": {
   "codemirror_mode": {
    "name": "ipython",
    "version": 3
   },
   "file_extension": ".py",
   "mimetype": "text/x-python",
   "name": "python",
   "nbconvert_exporter": "python",
   "pygments_lexer": "ipython3",
   "version": "3.7.10"
  }
 },
 "nbformat": 4,
 "nbformat_minor": 4
}
